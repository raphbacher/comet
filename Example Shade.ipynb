{
 "cells": [
  {
   "cell_type": "markdown",
   "metadata": {},
   "source": [
    "## Import libraries"
   ]
  },
  {
   "cell_type": "code",
   "execution_count": 15,
   "metadata": {},
   "outputs": [
    {
     "name": "stdout",
     "output_type": "stream",
     "text": [
      "The autoreload extension is already loaded. To reload it, use:\n",
      "  %reload_ext autoreload\n"
     ]
    }
   ],
   "source": [
    "%load_ext autoreload\n",
    "%autoreload 2"
   ]
  },
  {
   "cell_type": "code",
   "execution_count": 2,
   "metadata": {},
   "outputs": [],
   "source": [
    "import numpy as np\n",
    "import scipy.signal as ss\n",
    "import matplotlib\n",
    "import matplotlib.pyplot as plt\n",
    "import os\n",
    "\n",
    "from mpdaf.obj import Cube\n",
    "from mpdaf.sdetect import Source\n",
    "\n",
    "from shade import proba_tools,shade_main,parameters\n",
    "\n",
    "%matplotlib inline\n",
    "plt.rcParams['image.origin']='lower'\n",
    "plt.rcParams['image.interpolation']='nearest'\n",
    "plt.rcParams['figure.figsize']=(10,10)"
   ]
  },
  {
   "cell_type": "markdown",
   "metadata": {
    "collapsed": true
   },
   "source": [
    " ## Import data"
   ]
  },
  {
   "cell_type": "code",
   "execution_count": 3,
   "metadata": {},
   "outputs": [
    {
     "name": "stderr",
     "output_type": "stream",
     "text": [
      "WARNING: VerifyWarning: Invalid 'BLANK' keyword in header.  The 'BLANK' keyword is only applicable to integer data, and will be ignored in this HDU. [astropy.io.fits.hdu.image]\n"
     ]
    }
   ],
   "source": [
    "listSrc = [Source.from_file(\"./data/\"+filename) for filename in os.listdir(\"./data\") if filename.endswith(\".fits\")]"
   ]
  },
  {
   "cell_type": "markdown",
   "metadata": {},
   "source": [
    "## What is a source object"
   ]
  },
  {
   "cell_type": "markdown",
   "metadata": {},
   "source": [
    "A mpdaf source object is a descriptor of a region of a small region of a MUSE field, centered around a source (galaxie, star...)\n",
    "It is composed of several objects (images, cubes, lines...). For more details on mpdaf source object see http://mpdaf.readthedocs.io/en/latest/source.html"
   ]
  },
  {
   "cell_type": "markdown",
   "metadata": {},
   "source": [
    "To get infos about the first source of the listSrc :"
   ]
  },
  {
   "cell_type": "code",
   "execution_count": 4,
   "metadata": {},
   "outputs": [
    {
     "name": "stderr",
     "output_type": "stream",
     "text": [
      "[INFO] STELL   =                 0.03 / SExtractor F775W stellarity                    \n",
      "[INFO] XUDF_COV=                    1 / 1 =covered by NUV data, 0=not covered          \n",
      "[INFO] DEFECT  =                    0 / Defect Flag                                    \n",
      "[INFO] PFITDZ  = -0.00303291836539898 / Platefit complex Lya fit z offset              \n",
      "[INFO] FROM_V  = '2.20    '           / version of the detection software              \n",
      "[INFO] SIZE    =     5.00000000000004 / Source image size in arcsec                    \n",
      "[INFO] FROM    = 'HSTPRIOR'           / detection software                             \n",
      "[INFO] EXPMAX  =                   75 / Maximum value of EXPMAP                        \n",
      "[INFO] TYPE    =                    6 / Object classification                          \n",
      "[INFO] HISTORY [0.27] Rebuild source after update of segmentation Map (RBA 2016-10-20) \n",
      "[INFO] FSF00BET=                  2.8                                                  \n",
      "[INFO] EXPMIN  =                   56 / Minimum value of EXPMAP                        \n",
      "[INFO] REVISIT =                    0 / Revisit Flag                                   \n",
      "[INFO] MERGED  =                    F / HST MERGED flag                                \n",
      "[INFO] FSF00FWA=                0.869                                                  \n",
      "[INFO] EXPMEAN =              72.0448 / Mean value of EXPMAP                           \n",
      "[INFO] CATALOG = 'udf10_rafelski_original_catalog.fits' / Name of Rafelski Catatlog    \n",
      "[INFO] MASKT2  =                  0.1 / Mask relative threshold T2                     \n",
      "[INFO] IN_RAF  =                    T / True is source is in Rafelski catalog          \n",
      "[INFO] COMMENT [HIN 2015-11-29] An unknown feature which looks real at ~6977A.         \n",
      "[INFO] PA      =                    0 / Source PA in deg                               \n",
      "[INFO] CUBE    = 'DATACUBE_UDF-10.fits' / datacube                                     \n",
      "[INFO] ELL     =    0.443272386310361 / SExtractor F775W ellipticity                   \n",
      "[INFO] FWHM    =                38.21 / SExtractor F775W FWHM in pixel                 \n",
      "[INFO] CATSTAR =                    0 / 1=Star identified by GRAPES program            \n",
      "[INFO] BLEND   =                    0 / Blend Flag                                     \n",
      "[INFO] RA      =           53.1581145 / RA u.degree %.7f                               \n",
      "[INFO] CUBE_V  = '0.42    '           / version of the datacube                        \n",
      "[INFO] SRC_V   = '0.31    '                                                            \n",
      "[INFO] NSKYMSK =                  398 / Size of MASK_SKY in spaxels                    \n",
      "[INFO] FSFMODE = 'MOFFAT1 '                                                            \n",
      "[INFO] FORMAT  = '0.5     '           / Version of the Source format                   \n",
      "[INFO] MASKT1  =                 0.05 / Mask relative threshold T1                     \n",
      "[INFO] ID      =                   53 / object ID u.unitless %d                        \n",
      "[INFO] NOBJMSK =                  106 / Size of MASK_OBJ in spaxels                    \n",
      "[INFO] XUDF_EDG=                    0 / 1=close to NUV edge or chip gap, 0=not close   \n",
      "[INFO] COE_ID  =                 6139 / Coe catalog ID                                 \n",
      "[INFO] ID_3DHST=                26903 / 3DHST ID                                       \n",
      "[INFO] FSKYMSK =                63.68 / Relative Size of MASK_SKY in %                 \n",
      "[INFO] FSFMSK  =                  0.6 / HST Mask Conv Gauss FWHM in arcsec             \n",
      "[INFO] CAT3DHST= '3DHST 4.1.5'        / Name of 3DHST Catalog                          \n",
      "[INFO] REFSPEC = 'MUSE_WHITE_SKYSUB'  / Name of reference spectra                      \n",
      "[INFO] DEC     =         -27.78637151 / DEC u.degree %.7f                              \n",
      "[INFO] FOBJMSK =                16.96 / Relative Size of MASK_OBJ in %                 \n",
      "[INFO] FSF00FWB=           -3.401E-05                                                  \n",
      "[INFO] THETA   =                 45.0 / SExtractor position angle in degrees           \n",
      "[INFO] RAF_ID  = '10441   '           / Rafelski catalog ID                            \n",
      "[INFO] CONFID  =                    3 / Z Confidence Flag                              \n",
      "[INFO] 12 spectra: MUSE_SKY MUSE_TOT MUSE_WHITE_SKYSUB MUSE_WHITE MUSE_PSF MUSE_TOT_SKYSUB MUSE_PSF_SKYSUB 3DHST_SENS NB_LYALPHA NB_LYALPHA_SKYSUB MUSE_APER_0.4_SKYSUB MUSE_APER_0.4\n",
      "[INFO] 23 images: HST_F105W MASK_OBJ MUSE_EXPMAP HST_F814W HST_F775W HST_F140W HST_F336W HST_SEGMAP HST_F275W HST_F125W HST_F775W_E MUSE_WHITE HST_F225W HST_F606W HST_F160W MASK_SKY HST_F435W HST_F850LP 3DHST_WHT NB_LYALPHA 3DHST_SPEC 3DHST_F140W 3DHST_SEG\n",
      "[INFO] 1 cubes: MUSE_CUBE\n",
      "[INFO] 8 tables: HST_CAT 3DHST_CAT NB_PAR 3DHST_LINES PFIT_RES_REF PFIT_RES_SUM PFIT_REF_SPFIT PFIT_SUM_SPFIT\n",
      "[INFO] 1 lines\n",
      "[INFO] 8 magnitudes\n",
      "[INFO] 3 redshifts\n"
     ]
    }
   ],
   "source": [
    "src=listSrc[0]\n",
    "src.info()"
   ]
  },
  {
   "cell_type": "markdown",
   "metadata": {},
   "source": [
    "To see a white image of the source :"
   ]
  },
  {
   "cell_type": "code",
   "execution_count": 6,
   "metadata": {},
   "outputs": [
    {
     "data": {
      "text/plain": [
       "<matplotlib.image.AxesImage at 0x7f6f461a03c8>"
      ]
     },
     "execution_count": 6,
     "metadata": {},
     "output_type": "execute_result"
    },
    {
     "data": {
      "image/png": "[encoded data removed]",
      "text/plain": [
       "<matplotlib.figure.Figure at 0x7f6f7d437630>"
      ]
     },
     "metadata": {},
     "output_type": "display_data"
    }
   ],
   "source": [
    "src.images['MUSE_WHITE'].plot()"
   ]
  },
  {
   "cell_type": "markdown",
   "metadata": {},
   "source": [
    "The muse datacube of the source is stored in \n"
   ]
  },
  {
   "cell_type": "code",
   "execution_count": 7,
   "metadata": {},
   "outputs": [
    {
     "name": "stderr",
     "output_type": "stream",
     "text": [
      "WARNING: VerifyWarning: Invalid 'BLANK' keyword in header.  The 'BLANK' keyword is only applicable to integer data, and will be ignored in this HDU. [astropy.io.fits.hdu.image]\n"
     ]
    },
    {
     "data": {
      "text/plain": [
       "<Cube(shape=(3681, 25, 25), unit='1e-20 erg / (Angstrom cm2 s)', dtype='None')>"
      ]
     },
     "execution_count": 7,
     "metadata": {},
     "output_type": "execute_result"
    }
   ],
   "source": [
    "src.cubes['MUSE_CUBE']"
   ]
  },
  {
   "cell_type": "markdown",
   "metadata": {},
   "source": [
    "To get the numpy (masked) array of a mpdaf image or cube, get the data extension :\n"
   ]
  },
  {
   "cell_type": "code",
   "execution_count": 8,
   "metadata": {},
   "outputs": [
    {
     "name": "stderr",
     "output_type": "stream",
     "text": [
      "WARNING: VerifyWarning: Invalid 'BLANK' keyword in header.  The 'BLANK' keyword is only applicable to integer data, and will be ignored in this HDU. [astropy.io.fits.hdu.image]\n"
     ]
    },
    {
     "data": {
      "text/plain": [
       "numpy.ma.core.MaskedArray"
      ]
     },
     "execution_count": 8,
     "metadata": {},
     "output_type": "execute_result"
    }
   ],
   "source": [
    "type(src.cubes['MUSE_CUBE'].data)"
   ]
  },
  {
   "cell_type": "markdown",
   "metadata": {},
   "source": [
    "## Do halo detection"
   ]
  },
  {
   "cell_type": "code",
   "execution_count": 9,
   "metadata": {},
   "outputs": [
    {
     "name": "stderr",
     "output_type": "stream",
     "text": [
      "WARNING: VerifyWarning: Invalid 'BLANK' keyword in header.  The 'BLANK' keyword is only applicable to integer data, and will be ignored in this HDU. [astropy.io.fits.hdu.image]\n",
      "/home/raphael/Travail/Perso/comet/shade/function_Image.py:131: RuntimeWarning: invalid value encountered in less\n",
      "  xclip2 = x_sorted[np.where(((x_sorted-medclip) < 0) &\n",
      "/home/raphael/Travail/Perso/comet/shade/function_Image.py:132: RuntimeWarning: invalid value encountered in greater\n",
      "  ((x_sorted-medclip) > -3*stdclip))]\n",
      "/home/raphael/miniconda/envs/testcomet3/lib/python3.6/site-packages/numpy/ma/core.py:5144: RuntimeWarning: Mean of empty slice.\n",
      "  dtype=dtype, **kwargs)[()]\n",
      "/home/raphael/miniconda/envs/testcomet3/lib/python3.6/site-packages/numpy/core/_methods.py:73: RuntimeWarning: invalid value encountered in true_divide\n",
      "  ret, rcount, out=ret, casting='unsafe', subok=False)\n",
      "/home/raphael/miniconda/envs/testcomet3/lib/python3.6/site-packages/numpy/lib/function_base.py:4274: RuntimeWarning: Invalid value encountered in percentile\n",
      "  interpolation=interpolation)\n",
      "/home/raphael/miniconda/envs/testcomet3/lib/python3.6/site-packages/numpy/lib/function_base.py:4016: RuntimeWarning: Invalid value encountered in median\n",
      "  r = func(a, **kwargs)\n",
      "/home/raphael/Travail/Perso/comet/shade/function_Image.py:252: RuntimeWarning: invalid value encountered in less\n",
      "  xclip = x[np.where(((x-medclip) < facttrunc*stdclip) &\n",
      "/home/raphael/Travail/Perso/comet/shade/function_Image.py:253: RuntimeWarning: invalid value encountered in greater\n",
      "  ((x-medclip) > -facttrunc*stdclip))]\n",
      "/home/raphael/Travail/Perso/comet/shade/function_Image.py:261: RuntimeWarning: invalid value encountered in less\n",
      "  xclip2 = x[np.where(((x-medclip) < 0) & ((x-medclip) > -3*stdclip))]\n",
      "/home/raphael/Travail/Perso/comet/shade/function_Image.py:261: RuntimeWarning: invalid value encountered in greater\n",
      "  xclip2 = x[np.where(((x-medclip) < 0) & ((x-medclip) > -3*stdclip))]\n",
      "/home/raphael/miniconda/envs/testcomet3/lib/python3.6/site-packages/numpy/core/fromnumeric.py:2909: RuntimeWarning: Mean of empty slice.\n",
      "  out=out, **kwargs)\n",
      "/home/raphael/miniconda/envs/testcomet3/lib/python3.6/site-packages/numpy/core/_methods.py:80: RuntimeWarning: invalid value encountered in double_scalars\n",
      "  ret = ret.dtype.type(ret / rcount)\n",
      "/home/raphael/Travail/Perso/comet/shade/proba_tools.py:128: RuntimeWarning: invalid value encountered in less_equal\n",
      "  empFuncCorr2=EmpFunc2(-minVal[minVal<=-mMax])\n",
      "/home/raphael/Travail/Perso/comet/shade/proba_tools.py:138: RuntimeWarning: invalid value encountered in less\n",
      "  pvalCorr[maxVal<mMax]=(1-empFuncCorr1.calcECDF(maxVal[maxVal<mMax]))\n",
      "/home/raphael/Travail/Perso/comet/shade/proba_tools.py:139: RuntimeWarning: invalid value encountered in greater_equal\n",
      "  pvalCorr[maxVal>=mMax]=(1-empFuncCorr2.calcECDF(maxVal[maxVal>=mMax])/2.-0.5)\n"
     ]
    }
   ],
   "source": [
    "### Choose parameters\n",
    "# sim=False : il ne s'agit pas d'une source simu, on permet\n",
    "# lmbdaShift : max variation in the created spectra dictionnary (we go from -lmbdaShift to + lmbdaShift)\n",
    "# LW : half-width of the wavelength area\n",
    "\n",
    "params=parameters.Params(sim=False,lmbdaShift=7,LW=15)\n",
    "\n",
    "### creation de l'objet méthode à partir de la liste d'ID, cela permet de construire des sources plus grandes que celles obtenues dans le catalogue\n",
    "# on peut sinon injecter une liste de sources avec listSources=\n",
    "shade1=shade_main.SHADE(params=params,listSources=listSrc) \n",
    "\n",
    "#preprocessing with parameters : here, we do continuum subtraction using median filtering and we apply always preprocessing (i.e. even if preprocessed data is detected)\n",
    "paramsPreProcess=parameters.ParamsPreProcess(methodRC='medfilt',forceProcess=True,unmask=False)\n",
    "shade1.preprocess(paramsPreProcess=paramsPreProcess)\n",
    "\n",
    "\n",
    "### Detection\n",
    "paramsDetection=parameters.ParamsDetection()\n",
    "shade1.detect()\n",
    "\n",
    "### PostProcess\n",
    "# FDR: control with FDR \n",
    "# qvalue: compute qvalues\n",
    "# newSource : store results in a new source object (if not results are added to the input sources)\n",
    "# resizeCube : if whole muse cube given, resize cube in result sources to explored regions\n",
    "paramsPostProcess=parameters.ParamsPostProcess(threshold=0.1,\n",
    "                 FDR=True,\n",
    "                 qvalue=True,\n",
    "                 newSource=False,\n",
    "                 resizeCube=False)\n",
    "\n",
    "shade1.postprocess(paramsPostProcess=paramsPostProcess)"
   ]
  },
  {
   "cell_type": "markdown",
   "metadata": {},
   "source": [
    "## Results"
   ]
  },
  {
   "cell_type": "markdown",
   "metadata": {},
   "source": [
    "Here results are stored inside the original sources.\n",
    "We added new images : 'DET_STAT' (pvalues map) and 'DET_BIN' (binary map for BH procedure with the FDR threshold given above)"
   ]
  },
  {
   "cell_type": "code",
   "execution_count": 17,
   "metadata": {
    "scrolled": true
   },
   "outputs": [
    {
     "name": "stdout",
     "output_type": "stream",
     "text": [
      "[11, 11, 11, 12, 12, 12, 13, 13, 13] [33 36 39] (25, 25)\n"
     ]
    },
    {
     "ename": "ValueError",
     "evalue": "operands could not be broadcast together with shapes (9,) (3,) ",
     "output_type": "error",
     "traceback": [
      "\u001b[0;31m---------------------------------------------------------------------------\u001b[0m",
      "\u001b[0;31mValueError\u001b[0m                                Traceback (most recent call last)",
      "\u001b[0;32m<ipython-input-17-5276a93e7ac8>\u001b[0m in \u001b[0;36m<module>\u001b[0;34m()\u001b[0m\n\u001b[1;32m     17\u001b[0m \u001b[0;31m# Here we exploit connexity (COMET approach) we get the following detection for a 0.1 FDR.\u001b[0m\u001b[0;34m\u001b[0m\u001b[0;34m\u001b[0m\u001b[0m\n\u001b[1;32m     18\u001b[0m \u001b[0mplt\u001b[0m\u001b[0;34m.\u001b[0m\u001b[0mtitle\u001b[0m\u001b[0;34m(\u001b[0m\u001b[0;34mu'Map for 0.1 FDR with COMET'\u001b[0m\u001b[0;34m)\u001b[0m\u001b[0;34m\u001b[0m\u001b[0m\n\u001b[0;32m---> 19\u001b[0;31m \u001b[0mplt\u001b[0m\u001b[0;34m.\u001b[0m\u001b[0mimshow\u001b[0m\u001b[0;34m(\u001b[0m\u001b[0mproba_tools\u001b[0m\u001b[0;34m.\u001b[0m\u001b[0mconnexAggr\u001b[0m\u001b[0;34m(\u001b[0m\u001b[0mshade1\u001b[0m\u001b[0;34m.\u001b[0m\u001b[0mlistCorrArr\u001b[0m\u001b[0;34m[\u001b[0m\u001b[0;36m1\u001b[0m\u001b[0;34m]\u001b[0m\u001b[0;34m,\u001b[0m\u001b[0mq\u001b[0m\u001b[0;34m=\u001b[0m\u001b[0;36m0.1\u001b[0m\u001b[0;34m)\u001b[0m\u001b[0;34m)\u001b[0m\u001b[0;34m\u001b[0m\u001b[0m\n\u001b[0m\u001b[1;32m     20\u001b[0m \u001b[0mplt\u001b[0m\u001b[0;34m.\u001b[0m\u001b[0mtight_layout\u001b[0m\u001b[0;34m(\u001b[0m\u001b[0;34m)\u001b[0m\u001b[0;34m\u001b[0m\u001b[0m\n",
      "\u001b[0;32m~/Travail/Perso/comet/shade/proba_tools.py\u001b[0m in \u001b[0;36mconnexAggr\u001b[0;34m(corrMap, q, core, returnNeighbors, w, coeff, seed)\u001b[0m\n\u001b[1;32m    172\u001b[0m         \u001b[0msetAll\u001b[0m \u001b[0;34m=\u001b[0m \u001b[0mset\u001b[0m\u001b[0;34m(\u001b[0m\u001b[0;34m[\u001b[0m\u001b[0margsortPval\u001b[0m\u001b[0;34m[\u001b[0m\u001b[0;36m0\u001b[0m\u001b[0;34m]\u001b[0m\u001b[0;34m]\u001b[0m\u001b[0;34m)\u001b[0m\u001b[0;34m\u001b[0m\u001b[0m\n\u001b[1;32m    173\u001b[0m     \u001b[0mlistAll\u001b[0m \u001b[0;34m=\u001b[0m \u001b[0mnp\u001b[0m\u001b[0;34m.\u001b[0m\u001b[0marray\u001b[0m\u001b[0;34m(\u001b[0m\u001b[0mlist\u001b[0m\u001b[0;34m(\u001b[0m\u001b[0msetAll\u001b[0m\u001b[0;34m)\u001b[0m\u001b[0;34m)\u001b[0m\u001b[0;34m\u001b[0m\u001b[0m\n\u001b[0;32m--> 174\u001b[0;31m     \u001b[0msetNeighbors\u001b[0m\u001b[0;34m=\u001b[0m\u001b[0mset\u001b[0m\u001b[0;34m(\u001b[0m\u001b[0mgetNeighbors\u001b[0m\u001b[0;34m(\u001b[0m\u001b[0msetAll\u001b[0m\u001b[0;34m,\u001b[0m\u001b[0mmaxVal\u001b[0m\u001b[0;34m,\u001b[0m\u001b[0mw\u001b[0m\u001b[0;34m=\u001b[0m\u001b[0mw\u001b[0m\u001b[0;34m)\u001b[0m\u001b[0;34m)\u001b[0m\u001b[0;34m.\u001b[0m\u001b[0mdifference\u001b[0m\u001b[0;34m(\u001b[0m\u001b[0msetAll\u001b[0m\u001b[0;34m)\u001b[0m\u001b[0;34m\u001b[0m\u001b[0m\n\u001b[0m\u001b[1;32m    175\u001b[0m     \u001b[0mlistNeighbors\u001b[0m\u001b[0;34m=\u001b[0m\u001b[0mnp\u001b[0m\u001b[0;34m.\u001b[0m\u001b[0marray\u001b[0m\u001b[0;34m(\u001b[0m\u001b[0mlist\u001b[0m\u001b[0;34m(\u001b[0m\u001b[0msetNeighbors\u001b[0m\u001b[0;34m)\u001b[0m\u001b[0;34m)\u001b[0m\u001b[0;34m\u001b[0m\u001b[0m\n\u001b[1;32m    176\u001b[0m     \u001b[0;32mif\u001b[0m \u001b[0mcore\u001b[0m \u001b[0;32mis\u001b[0m \u001b[0;32mnot\u001b[0m \u001b[0;32mNone\u001b[0m\u001b[0;34m:\u001b[0m\u001b[0;34m\u001b[0m\u001b[0m\n",
      "\u001b[0;32m~/Travail/Perso/comet/shade/proba_tools.py\u001b[0m in \u001b[0;36mgetNeighbors\u001b[0;34m(k_set, arr, w)\u001b[0m\n\u001b[1;32m    236\u001b[0m         \u001b[0my\u001b[0m \u001b[0;34m=\u001b[0m \u001b[0mrange\u001b[0m\u001b[0;34m(\u001b[0m\u001b[0mjmax\u001b[0m\u001b[0;34m,\u001b[0m \u001b[0mjmin\u001b[0m\u001b[0;34m+\u001b[0m\u001b[0;36m1\u001b[0m\u001b[0;34m)\u001b[0m\u001b[0;34m*\u001b[0m\u001b[0;34m(\u001b[0m\u001b[0mimin\u001b[0m\u001b[0;34m-\u001b[0m\u001b[0mimax\u001b[0m\u001b[0;34m+\u001b[0m\u001b[0;36m1\u001b[0m\u001b[0;34m)\u001b[0m\u001b[0;34m\u001b[0m\u001b[0m\n\u001b[1;32m    237\u001b[0m         \u001b[0mprint\u001b[0m\u001b[0;34m(\u001b[0m\u001b[0mx\u001b[0m\u001b[0;34m,\u001b[0m\u001b[0my\u001b[0m\u001b[0;34m,\u001b[0m\u001b[0marr\u001b[0m\u001b[0;34m.\u001b[0m\u001b[0mshape\u001b[0m\u001b[0;34m)\u001b[0m\u001b[0;34m\u001b[0m\u001b[0m\n\u001b[0;32m--> 238\u001b[0;31m         \u001b[0mneighbors\u001b[0m \u001b[0;34m=\u001b[0m \u001b[0mneighbors\u001b[0m\u001b[0;34m.\u001b[0m\u001b[0munion\u001b[0m\u001b[0;34m(\u001b[0m\u001b[0mset\u001b[0m\u001b[0;34m(\u001b[0m\u001b[0mnp\u001b[0m\u001b[0;34m.\u001b[0m\u001b[0mravel_multi_index\u001b[0m\u001b[0;34m(\u001b[0m\u001b[0;34m[\u001b[0m\u001b[0mx\u001b[0m\u001b[0;34m,\u001b[0m \u001b[0my\u001b[0m\u001b[0;34m]\u001b[0m\u001b[0;34m,\u001b[0m \u001b[0marr\u001b[0m\u001b[0;34m.\u001b[0m\u001b[0mshape\u001b[0m\u001b[0;34m)\u001b[0m\u001b[0;34m)\u001b[0m\u001b[0;34m)\u001b[0m\u001b[0;34m\u001b[0m\u001b[0m\n\u001b[0m\u001b[1;32m    239\u001b[0m     \u001b[0;32mreturn\u001b[0m \u001b[0mneighbors\u001b[0m\u001b[0;34m\u001b[0m\u001b[0m\n\u001b[1;32m    240\u001b[0m \u001b[0;34m\u001b[0m\u001b[0m\n",
      "\u001b[0;31mValueError\u001b[0m: operands could not be broadcast together with shapes (9,) (3,) "
     ]
    },
    {
     "data": {
      "image/png": "[encoded data removed]",
      "text/plain": [
       "<matplotlib.figure.Figure at 0x7f6f438e4198>"
      ]
     },
     "metadata": {},
     "output_type": "display_data"
    }
   ],
   "source": [
    "plt.rcParams[\"figure.figsize\"]=(15,15)\n",
    "plt.subplot(131)\n",
    "plt.title('P-valeurs')\n",
    "plt.imshow(shade1.listSources[0].images['DET_STAT'].data)\n",
    "plt.subplot(132)\n",
    "plt.title(u'Map for 0.1 FDR with BH procedure')\n",
    "# We can directly get the binary map shade1.listSources[0].images['DET_BIN']\n",
    "# or\n",
    "# we can compute a threshold for pvalues for another FDR and apply it on DET_STAT\n",
    "# In this case as in postprocess we put a 0.1 threshold.\n",
    "\n",
    "#Threshold on pvalues for FDR =0.1\n",
    "seuil=shade1.postprocessing.corrPvalueBH(shade1.listSources[0].images['DET_STAT'].data,0.1)\n",
    "plt.imshow(shade1.listSources[0].images['DET_STAT'].data<seuil)\n",
    "\n",
    "plt.subplot(133)\n",
    "# Here we exploit connexity (COMET approach) we get the following detection for a 0.1 FDR.\n",
    "plt.title(u'Map for 0.1 FDR with COMET')\n",
    "plt.imshow(proba_tools.connexAggr(shade1.listCorrArr[1],q=0.1))\n",
    "plt.tight_layout()"
   ]
  },
  {
   "cell_type": "code",
   "execution_count": 21,
   "metadata": {},
   "outputs": [
    {
     "data": {
      "text/plain": [
       "[0, 1, 2, 0, 1, 2, 0, 1, 2]"
      ]
     },
     "execution_count": 21,
     "metadata": {},
     "output_type": "execute_result"
    }
   ],
   "source": [
    "list(range(3))*(3)"
   ]
  },
  {
   "cell_type": "code",
   "execution_count": null,
   "metadata": {},
   "outputs": [],
   "source": []
  }
 ],
 "metadata": {
  "kernelspec": {
   "display_name": "Python 3",
   "language": "python",
   "name": "python3"
  },
  "language_info": {
   "codemirror_mode": {
    "name": "ipython",
    "version": 3
   },
   "file_extension": ".py",
   "mimetype": "text/x-python",
   "name": "python",
   "nbconvert_exporter": "python",
   "pygments_lexer": "ipython3",
   "version": "3.6.3"
  },
  "nav_menu": {},
  "toc": {
   "navigate_menu": true,
   "number_sections": true,
   "sideBar": true,
   "threshold": 6,
   "toc_cell": false,
   "toc_section_display": "block",
   "toc_window_display": false
  }
 },
 "nbformat": 4,
 "nbformat_minor": 1
}

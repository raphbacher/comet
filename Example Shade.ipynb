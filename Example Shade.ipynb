{
 "cells": [
  {
   "cell_type": "code",
   "execution_count": 229,
   "metadata": {
    "collapsed": false
   },
   "outputs": [],
   "source": [
    "import os\n",
    "import sys\n",
    "sys.path.append('../../')\n",
    "sys.path.append('../../lib')\n",
    "\n",
    "\n",
    "import numpy as np\n",
    "import random\n",
    "import scipy.signal as ss\n",
    "import matplotlib\n",
    "import matplotlib.pyplot as plt\n",
    "\n",
    "from math import *\n",
    "from pylab import *\n",
    "from mpdaf import *\n",
    "\n",
    "from mpdaf.obj import Cube\n",
    "from mpdaf.obj import Image\n",
    "from mpdaf.obj import Spectrum\n",
    "from mpdaf.obj import WCS\n",
    "from mpdaf.obj import WaveCoord\n",
    "\n",
    "\n",
    "from shade import shade_main,parameters,detection,array_tools,preprocessing,postprocessing,function_Image\n",
    "reload(shade_main)\n",
    "reload(parameters)\n",
    "reload(detection)\n",
    "reload(array_tools)\n",
    "reload(preprocessing)\n",
    "reload(postprocessing)\n",
    "reload(function_Image)\n",
    "%matplotlib inline\n",
    "rcParams['image.cmap']='coolwarm'\n",
    "rcParams['image.origin']='lower'\n",
    "rcParams['image.interpolation']='nearest'"
   ]
  },
  {
   "cell_type": "code",
   "execution_count": 223,
   "metadata": {
    "collapsed": false
   },
   "outputs": [],
   "source": [
    "listID=[43]#,43, 92, 95, 139]\n",
    "\n",
    "cube=Cube('/home/data/MUSE/v1.30/DATACUBE-HDFS-v1.34.fits')"
   ]
  },
  {
   "cell_type": "code",
   "execution_count": 224,
   "metadata": {
    "collapsed": false
   },
   "outputs": [],
   "source": [
    "### choix des paramètres, \n",
    "# sim=False : il ne s'agit pas d'une source simu, on permet\n",
    "# lmbdaShift : variation max dans la famille de spectres de tests créés (on va de -lmbdaShift à + lmbdaShift)\n",
    "# LW : demi-largeur de la zone étudié en lmbda\n",
    "# SW : demi-largeur de la zone étudié en spatial\n",
    "params=parameters.Params(sim=False,lmbdaShift=7,LW=15,SW=20)\n",
    "\n",
    "### creation de l'objet méthode à partir de la liste d'ID, cela permet de construire des sources plus grandes que celles obtenues dans le catalogue\n",
    "shade1=shade_main.SHADE(listID=listID,params=params,catalog='/home/data/MUSE/HDFS/MasterCatalogue-1p24.fits',cube=cube) \n",
    "\n",
    "#preprocessing avec parametrisation : ici,on fait la soustraction du continu par filtre median, et on force le preprocessing\n",
    "paramsPreProcess=parameters.ParamsPreProcess(methodRC='medfilt',forceProcess=True)\n",
    "shade1.preprocess(paramsPreProcess=paramsPreProcess)\n"
   ]
  },
  {
   "cell_type": "code",
   "execution_count": 225,
   "metadata": {
    "collapsed": false
   },
   "outputs": [],
   "source": [
    "### Detection\n",
    "shade1.detect()"
   ]
  },
  {
   "cell_type": "code",
   "execution_count": 226,
   "metadata": {
    "collapsed": false,
    "scrolled": true
   },
   "outputs": [],
   "source": [
    "### PostProcess\n",
    "shade1.postprocess()"
   ]
  },
  {
   "cell_type": "code",
   "execution_count": 230,
   "metadata": {
    "collapsed": false
   },
   "outputs": [
    {
     "data": {
      "text/plain": [
       "<matplotlib.colorbar.Colorbar instance at 0x7f78b0515f80>"
      ]
     },
     "execution_count": 230,
     "metadata": {},
     "output_type": "execute_result"
    },
    {
     "data": {
      "image/png": "[encoded data removed]",
      "text/plain": [
       "<matplotlib.figure.Figure at 0x7f78b0603410>"
      ]
     },
     "metadata": {},
     "output_type": "display_data"
    }
   ],
   "source": [
    "plt.imshow(shade1.listSources[0].images['DET_INDEX_ALL'].data)\n",
    "plt.colorbar()"
   ]
  },
  {
   "cell_type": "code",
   "execution_count": 231,
   "metadata": {
    "collapsed": false
   },
   "outputs": [
    {
     "data": {
      "text/plain": [
       "<matplotlib.colorbar.Colorbar instance at 0x7f78b0376bd8>"
      ]
     },
     "execution_count": 231,
     "metadata": {},
     "output_type": "execute_result"
    },
    {
     "data": {
      "image/png": "[encoded data removed]",
      "text/plain": [
       "<matplotlib.figure.Figure at 0x7f78b04c8e50>"
      ]
     },
     "metadata": {},
     "output_type": "display_data"
    }
   ],
   "source": [
    "plt.imshow(shade1.listSources[0].images['DET_STAT'].data)\n",
    "plt.colorbar()"
   ]
  },
  {
   "cell_type": "code",
   "execution_count": null,
   "metadata": {
    "collapsed": true
   },
   "outputs": [],
   "source": []
  }
 ],
 "metadata": {
  "kernelspec": {
   "display_name": "Python 2",
   "language": "python",
   "name": "python2"
  },
  "language_info": {
   "codemirror_mode": {
    "name": "ipython",
    "version": 2
   },
   "file_extension": ".py",
   "mimetype": "text/x-python",
   "name": "python",
   "nbconvert_exporter": "python",
   "pygments_lexer": "ipython2",
   "version": "2.7.11"
  }
 },
 "nbformat": 4,
 "nbformat_minor": 0
}

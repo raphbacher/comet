{
 "cells": [
  {
   "cell_type": "markdown",
   "metadata": {},
   "source": [
    "## Import libraries"
   ]
  },
  {
   "cell_type": "code",
   "execution_count": 1,
   "metadata": {},
   "outputs": [],
   "source": [
    "%load_ext autoreload\n",
    "%autoreload 2"
   ]
  },
  {
   "cell_type": "code",
   "execution_count": 2,
   "metadata": {},
   "outputs": [],
   "source": [
    "import numpy as np\n",
    "import scipy.signal as ss\n",
    "import matplotlib\n",
    "import matplotlib.pyplot as plt\n",
    "import os\n",
    "\n",
    "from mpdaf.obj import Cube\n",
    "from mpdaf.sdetect import Source\n",
    "\n",
    "from shade import proba_tools,shade_main,parameters\n",
    "\n",
    "%matplotlib inline\n",
    "plt.rcParams['image.origin']='lower'\n",
    "plt.rcParams['image.interpolation']='nearest'\n",
    "plt.rcParams['figure.figsize']=(10,10)"
   ]
  },
  {
   "cell_type": "markdown",
   "metadata": {
    "collapsed": true
   },
   "source": [
    " ## Import data"
   ]
  },
  {
   "cell_type": "code",
   "execution_count": 3,
   "metadata": {},
   "outputs": [
    {
     "name": "stderr",
     "output_type": "stream",
     "text": [
      "WARNING: VerifyWarning: Invalid 'BLANK' keyword in header.  The 'BLANK' keyword is only applicable to integer data, and will be ignored in this HDU. [astropy.io.fits.hdu.image]\n"
     ]
    }
   ],
   "source": [
    "listSrc = [Source.from_file(\"./data/\"+filename) for filename in os.listdir(\"./data\") if filename.endswith(\".fits\")]"
   ]
  },
  {
   "cell_type": "markdown",
   "metadata": {},
   "source": [
    "## What is a source object"
   ]
  },
  {
   "cell_type": "markdown",
   "metadata": {},
   "source": [
    "A mpdaf source object is a descriptor of a region of a small region of a MUSE field, centered around a source (galaxie, star...)\n",
    "It is composed of several objects (images, cubes, lines...). For more details on mpdaf source object see http://mpdaf.readthedocs.io/en/latest/source.html"
   ]
  },
  {
   "cell_type": "markdown",
   "metadata": {},
   "source": [
    "To get infos about the first source of the listSrc :"
   ]
  },
  {
   "cell_type": "code",
   "execution_count": 14,
   "metadata": {},
   "outputs": [
    {
     "name": "stderr",
     "output_type": "stream",
     "text": [
      "[INFO] RAF_ID  = '9863    '           / Rafelski catalog ID                            \n",
      "[INFO] FORMAT  = '0.5     '           / Version of the Source format                   \n",
      "[INFO] FSF00FWA=                0.869                                                  \n",
      "[INFO] CAT3DHST= '3DHST 4.1.5'        / Name of 3DHST Catalog                          \n",
      "[INFO] COE_ID  =                 7868 / Coe catalog ID                                 \n",
      "[INFO] DEFECT  =                    0 / Defect Flag                                    \n",
      "[INFO] CUBE_V  = '0.42    '           / version of the datacube                        \n",
      "[INFO] FROM_V  = '2.20    '           / version of the detection software              \n",
      "[INFO] ID_3DHST=                28768 / 3DHST ID                                       \n",
      "[INFO] EXPMIN  =                   63 / Minimum value of EXPMAP                        \n",
      "[INFO] FSF00FWB=           -3.401E-05                                                  \n",
      "[INFO] DEC     =         -27.77907551 / DEC u.degree %.7f                              \n",
      "[INFO] FWHM    =                18.33 / SExtractor F775W FWHM in pixel                 \n",
      "[INFO] FSFMODE = 'MOFFAT1 '                                                            \n",
      "[INFO] COMMENT [HIN 2015-11-29] JBR:Intriguing object. The redshift is for C III]. Ther\n",
      "[INFO] EXPMEAN =              75.3168 / Mean value of EXPMAP                           \n",
      "[INFO] EXPMAX  =                   83 / Maximum value of EXPMAP                        \n",
      "[INFO] MASKT1  =                 0.05 / Mask relative threshold T1                     \n",
      "[INFO] FSKYMSK =                 68.8 / Relative Size of MASK_SKY in %                 \n",
      "[INFO] CATALOG = 'udf10_rafelski_original_catalog.fits' / Name of Rafelski Catatlog    \n",
      "[INFO] MASKT2  =                  0.1 / Mask relative threshold T2                     \n",
      "[INFO] PA      =                    0 / Source PA in deg                               \n",
      "[INFO] RA      =          53.16372638 / RA u.degree %.7f                               \n",
      "[INFO] SIZE    =     5.00000000000004 / Source image size in arcsec                    \n",
      "[INFO] MERGED  =                    F / HST MERGED flag                                \n",
      "[INFO] ORIG_OFF=   0.1810650964877291 / Offset between Source and Origin (arcsec)      \n",
      "[INFO] CUBE    = 'DATACUBE_UDF-10.fits' / datacube                                     \n",
      "[INFO] REFSPEC = 'MUSE_PSF_SKYSUB'    / Name of reference spectra                      \n",
      "[INFO] ELL     =   0.3240580712063601 / SExtractor F775W ellipticity                   \n",
      "[INFO] XUDF_EDG=                    0 / 1=close to NUV edge or chip gap, 0=not close   \n",
      "[INFO] NOBJMSK =                   82 / Size of MASK_OBJ in spaxels                    \n",
      "[INFO] REVISIT =                    1 / Revisit Flag                                   \n",
      "[INFO] CATSTAR =                    0 / 1=Star identified by GRAPES program            \n",
      "[INFO] IN_RAF  =                    T / True is source is in Rafelski catalog          \n",
      "[INFO] STELL   =                 0.03 / SExtractor F775W stellarity                    \n",
      "[INFO] SRC_V   = '0.31    '                                                            \n",
      "[INFO] THETA   =                 85.5 / SExtractor position angle in degrees           \n",
      "[INFO] BLEND   =                    0 / Blend Flag                                     \n",
      "[INFO] ID      =                  106 / object ID u.unitless %d                        \n",
      "[INFO] HISTORY [0.27] Rebuild source after update of segmentation Map (RBA 2016-10-20) \n",
      "[INFO] FSF00BET=                  2.8                                                  \n",
      "[INFO] FOBJMSK =                13.12 / Relative Size of MASK_OBJ in %                 \n",
      "[INFO] FROM    = 'HSTPRIOR'           / detection software                             \n",
      "[INFO] ORIG_DEC=   -27.77902612595691 / ORIGIN computed DEC                            \n",
      "[INFO] ORIG_ID =                   20 / ORIGIN ID                                      \n",
      "[INFO] PFITDZ  = -0.00305822044196713 / Platefit complex Lya fit z offset              \n",
      "[INFO] ORIG_RA =    53.16373715547387 / ORIGIN computed RA                             \n",
      "[INFO] NSKYMSK =                  430 / Size of MASK_SKY in spaxels                    \n",
      "[INFO] FSFMSK  =                  0.6 / HST Mask Conv Gauss FWHM in arcsec             \n",
      "[INFO] TYPE    =                    6 / Object classification                          \n",
      "[INFO] XUDF_COV=                    1 / 1 =covered by NUV data, 0=not covered          \n",
      "[INFO] CONFID  =                    3 / Z Confidence Flag                              \n",
      "[INFO] 18 spectra: MUSE_SKY NB_LYALPHA MUSE_TOT SPEC_HAL ORIG_5189 MUSE_TOT_SKYSUB MUSE_APER_0.4_SKYSUB ORIG_5210 MUSE_WHITE MUSE_PSF MUSE_WHITE_SKYSUB MUSE_APER_0.4 MUSE_PSF_SKYSUB SPEC_GAL 3DHST_SENS ORIG_7122 ORIG_8154 NB_LYALPHA_SKYSUB\n",
      "[INFO] 31 images: DET_INDEX_ALL MUSE_EXPMAP HST_F336W DET_BIN_ALL HST_F814W HST_F225W 3DHST_SEG DET_BIN_GAL HST_F105W HST_F775W HST_F140W HST_F125W NB_LYALPHA HST_F775W_E HST_F435W 3DHST_WHT MASK_OBJ ORIG_MXMAP MUSE_WHITE HST_F275W HST_F160W DET_QSTAT HST_F850LP DET_BIN_HAL DET_STAT HST_SEGMAP 3DHST_SPEC 3DHST_F140W HST_F606W MASK_SKY NB_CIII1909\n",
      "[INFO] 2 cubes: MUSE_CUBE PROCESS_CUBE\n",
      "[INFO] 9 tables: PFIT_REF_SPFIT PFIT_SUM_SPFIT PFIT_RES_REF HST_CAT PFIT_RES_SUM ORIG_LINES 3DHST_CAT 3DHST_LINES NB_PAR\n",
      "[INFO] 4 lines\n",
      "[INFO] 8 magnitudes\n",
      "[INFO] 3 redshifts\n"
     ]
    }
   ],
   "source": [
    "src=listSrc[0]\n",
    "src.info()"
   ]
  },
  {
   "cell_type": "markdown",
   "metadata": {},
   "source": [
    "To see a white image of the source :"
   ]
  },
  {
   "cell_type": "code",
   "execution_count": 15,
   "metadata": {},
   "outputs": [
    {
     "data": {
      "text/plain": [
       "<matplotlib.image.AxesImage at 0x7fc1758d8390>"
      ]
     },
     "execution_count": 15,
     "metadata": {},
     "output_type": "execute_result"
    },
    {
     "data": {
      "image/png": "[encoded data removed]",
      "text/plain": [
       "<matplotlib.figure.Figure at 0x7fc17a2ea5d0>"
      ]
     },
     "metadata": {},
     "output_type": "display_data"
    }
   ],
   "source": [
    "src.images['MUSE_WHITE'].plot()"
   ]
  },
  {
   "cell_type": "markdown",
   "metadata": {},
   "source": [
    "The muse datacube of the source is stored in \n"
   ]
  },
  {
   "cell_type": "code",
   "execution_count": 16,
   "metadata": {},
   "outputs": [
    {
     "data": {
      "text/plain": [
       "<Cube(shape=(3681, 25, 25), unit='1e-20 erg / (Angstrom cm2 s)', dtype='float64')>"
      ]
     },
     "execution_count": 16,
     "metadata": {},
     "output_type": "execute_result"
    }
   ],
   "source": [
    "src.cubes['MUSE_CUBE']"
   ]
  },
  {
   "cell_type": "markdown",
   "metadata": {},
   "source": [
    "To get the numpy (masked) array of a mpdaf image or cube, get the data extension :\n"
   ]
  },
  {
   "cell_type": "code",
   "execution_count": 21,
   "metadata": {},
   "outputs": [
    {
     "data": {
      "text/plain": [
       "numpy.ma.core.MaskedArray"
      ]
     },
     "execution_count": 21,
     "metadata": {},
     "output_type": "execute_result"
    }
   ],
   "source": [
    "type(src.cubes['MUSE_CUBE'].data)"
   ]
  },
  {
   "cell_type": "markdown",
   "metadata": {},
   "source": [
    "## Do halo detection"
   ]
  },
  {
   "cell_type": "code",
   "execution_count": 10,
   "metadata": {},
   "outputs": [],
   "source": [
    "### Choose parameters\n",
    "# sim=False : il ne s'agit pas d'une source simu, on permet\n",
    "# lmbdaShift : max variation in the created spectra dictionnary (we go from -lmbdaShift to + lmbdaShift)\n",
    "# LW : half-width of the wavelength area\n",
    "\n",
    "params=parameters.Params(sim=False,lmbdaShift=7,LW=15)\n",
    "\n",
    "### creation de l'objet méthode à partir de la liste d'ID, cela permet de construire des sources plus grandes que celles obtenues dans le catalogue\n",
    "# on peut sinon injecter une liste de sources avec listSources=\n",
    "shade1=shade_main.SHADE(params=params,listSources=listSrc) \n",
    "\n",
    "#preprocessing with parameters : here, we do continuum subtraction using median filtering and we apply always preprocessing (i.e. even if preprocessed data is detected)\n",
    "paramsPreProcess=parameters.ParamsPreProcess(methodRC='medfilt',forceProcess=True,unmask=False)\n",
    "shade1.preprocess(paramsPreProcess=paramsPreProcess)\n",
    "\n",
    "\n",
    "### Detection\n",
    "paramsDetection=parameters.ParamsDetection()\n",
    "shade1.detect()\n",
    "\n",
    "### PostProcess\n",
    "# FDR: control with FDR \n",
    "# qvalue: compute qvalues\n",
    "# newSource : store results in a new source object (if not results are added to the input sources)\n",
    "# resizeCube : if whole muse cube given, resize cube in result sources to explored regions\n",
    "paramsPostProcess=parameters.ParamsPostProcess(threshold=0.1,\n",
    "                 FDR=True,\n",
    "                 qvalue=True,\n",
    "                 newSource=False,\n",
    "                 resizeCube=False)\n",
    "\n",
    "shade1.postprocess(paramsPostProcess=paramsPostProcess)"
   ]
  },
  {
   "cell_type": "markdown",
   "metadata": {},
   "source": [
    "## Results"
   ]
  },
  {
   "cell_type": "markdown",
   "metadata": {},
   "source": [
    "Here results are stored inside the original sources.\n",
    "We added new images : 'DET_STAT' (pvalues map) and 'DET_BIN' (binary map for BH procedure with the FDR threshold given above)"
   ]
  },
  {
   "cell_type": "code",
   "execution_count": 18,
   "metadata": {},
   "outputs": [
    {
     "data": {
      "image/png": "[encoded data removed]",
      "text/plain": [
       "<matplotlib.figure.Figure at 0x7fc17a215990>"
      ]
     },
     "metadata": {},
     "output_type": "display_data"
    }
   ],
   "source": [
    "plt.rcParams[\"figure.figsize\"]=(15,15)\n",
    "plt.subplot(131)\n",
    "plt.title('P-valeurs')\n",
    "plt.imshow(shade1.listSources[0].images['DET_STAT'].data)\n",
    "plt.subplot(132)\n",
    "plt.title(u'Map for 0.1 FDR with BH procedure')\n",
    "# We can directly get the binary map shade1.listSources[0].images['DET_BIN']\n",
    "# or\n",
    "# we can compute a threshold for pvalues for another FDR and apply it on DET_STAT\n",
    "# In this case as in postprocess we put a 0.1 threshold.\n",
    "\n",
    "#Threshold on pvalues for FDR =0.1\n",
    "seuil=shade1.postprocessing.corrPvalueBH(shade1.listSources[0].images['DET_STAT'].data,0.1)\n",
    "plt.imshow(shade1.listSources[0].images['DET_STAT'].data<seuil)\n",
    "\n",
    "plt.subplot(133)\n",
    "# Here we exploit connexity (COMET approach) we get the following detection for a 0.1 FDR.\n",
    "plt.title(u'Map for 0.1 FDR with COMET')\n",
    "plt.imshow(proba_tools.connexAggr(shade1.listCorrArr[0],q=0.1))\n",
    "plt.tight_layout()"
   ]
  },
  {
   "cell_type": "code",
   "execution_count": null,
   "metadata": {
    "collapsed": true
   },
   "outputs": [],
   "source": []
  }
 ],
 "metadata": {
  "kernelspec": {
   "display_name": "Python [default]",
   "language": "python",
   "name": "python2"
  },
  "language_info": {
   "codemirror_mode": {
    "name": "ipython",
    "version": 2
   },
   "file_extension": ".py",
   "mimetype": "text/x-python",
   "name": "python",
   "nbconvert_exporter": "python",
   "pygments_lexer": "ipython2",
   "version": "2.7.13"
  },
  "nav_menu": {},
  "toc": {
   "navigate_menu": true,
   "number_sections": true,
   "sideBar": true,
   "threshold": 6,
   "toc_cell": false,
   "toc_section_display": "block",
   "toc_window_display": false
  }
 },
 "nbformat": 4,
 "nbformat_minor": 1
}
